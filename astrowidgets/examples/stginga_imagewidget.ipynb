{
 "cells": [
  {
   "cell_type": "markdown",
   "metadata": {},
   "source": [
    "Jupyterlab dependencies, in addition to the normal ones:\n",
    "```\n",
    "conda install -c conda-forge jupyterlab nodejs\n",
    "jupyter labextension install @jupyter-widgets/jupyterlab-manager ipyevents\n",
    "```\n",
    "\n",
    "To use `aggdraw` successfully in Windows, clone\n",
    "https://github.com/ejeschke/aggdraw/ repository, follow\n",
    "https://stackoverflow.com/questions/17770413/aggdraw-cannot-load-font-no-text-renderer,\n",
    "and then install the `vectorized-drawing` branch.\n",
    "\n",
    "To use `aggdraw` successfully in non-Windows:\n",
    "```\n",
    "conda install -c conda-forge freetype=2.8.1 aggdraw\n",
    "```\n",
    "\n",
    "For Windows users, `conda install -c conda-forge nodejs` will fail with `IOError`. To get around that, install `nodejs` from https://nodejs.org (the LTS version) and `yarn` from https://yarnpkg.com (the stable version)."
   ]
  },
  {
   "cell_type": "code",
   "execution_count": null,
   "metadata": {},
   "outputs": [],
   "source": [
    "from core import ImageWidget"
   ]
  },
  {
   "cell_type": "code",
   "execution_count": null,
   "metadata": {},
   "outputs": [],
   "source": [
    "from ginga.misc.log import get_logger\n",
    "\n",
    "logger = get_logger('my viewer', log_stderr=True,\n",
    "                    log_file=None, level=30)"
   ]
  },
  {
   "cell_type": "code",
   "execution_count": null,
   "metadata": {},
   "outputs": [],
   "source": [
    "w = ImageWidget(logger=logger)"
   ]
  },
  {
   "cell_type": "code",
   "execution_count": null,
   "metadata": {},
   "outputs": [],
   "source": [
    "#filename = '../../../stginga/test_data/candels_big_mosaic.fits'\n",
    "#numhdu = 0\n",
    "#data_unit = None\n",
    "\n",
    "filename = '../../../stginga/test_data/jb5g05ubq_flt.fits'\n",
    "numhdu = 4\n",
    "data_unit = 'electron'\n",
    "\n",
    "filename = '/Users/mcraig/Documents/Research/observatory-update-2017-18/tracking_rate/2018-04-16/ey-uma-0001r.fit'\n",
    "numhdu = 0\n",
    "\n",
    "# Loads a FITS file\n",
    "w.load_fits(filename, numhdu=numhdu)\n",
    "\n",
    "# Loads NDData\n",
    "#from astropy.nddata import CCDData\n",
    "#ccd = CCDData.read(filename, hdu=numhdu, unit=data_unit)\n",
    "#w.load_nddata(ccd)\n",
    "\n",
    "# Loads array (no WCS)\n",
    "#from astropy.io import fits\n",
    "#with fits.open(filename, memmap=False) as pf:\n",
    "#    arr = pf[numhdu].data.copy()\n",
    "#w.load_array(arr)"
   ]
  },
  {
   "cell_type": "markdown",
   "metadata": {},
   "source": [
    "Ginga key bindings documented at http://ginga.readthedocs.io/en/latest/quickref.html . Note that not all documented bindings would work here. Please use an alternate binding, if available, if the chosen one is not working.\n",
    "\n",
    "Here are the ones that worked during testing with Firefox 52.8.0 on RHEL7 64-bit:\n",
    "\n",
    "Key | Action | Notes\n",
    "--- | --- | ---\n",
    "`+` | Zoom in |\n",
    "`-` | Zoom out |\n",
    "Number (0-9) | Zoom in to specified level | 0 = 10\n",
    "Shift + number | Zoom out to specified level | Numpad does not work\n",
    "` (backtick) | Reset zoom |\n",
    "Space > `q` > arrow | Pan |\n",
    "ESC | Exit mode (pan, etc) |\n",
    "`c` | Center image\n",
    "Space > `d` > up/down arrow | Cycle through color distributions\n",
    "Space > `d` > Shift + `d` | Go back to linear color distribution\n",
    "Space > `s` > Shift + `s` | Set cut level to min/max\n",
    "Space > `s` > Shift + `a` | Set cut level to 0/255 (for 8bpp RGB images)\n",
    "Space > `s` > up/down arrow | Cycle through cuts algorithms\n",
    "Space > `l` | Toggle no/soft/normal lock |\n",
    "\n",
    "**TODO: Check out Contrast Mode next**"
   ]
  },
  {
   "cell_type": "markdown",
   "metadata": {},
   "source": [
    "A viewer will be shown after running the next cell.\n",
    "In Jupyter Lab, you can split it out into a separate view by right-clicking on the viewer and then select\n",
    "\"Create New View for Output\". Then, you can drag the new\n",
    "\"Output View\" tab, say, to the right side of the workspace. Both viewers are connected to the same events."
   ]
  },
  {
   "cell_type": "code",
   "execution_count": null,
   "metadata": {},
   "outputs": [],
   "source": [
    "w"
   ]
  },
  {
   "cell_type": "markdown",
   "metadata": {},
   "source": [
    "This next cell captures print outputs. You can pop it out like the viewer above. It is very convenient for debugging purpose."
   ]
  },
  {
   "cell_type": "code",
   "execution_count": null,
   "metadata": {},
   "outputs": [],
   "source": [
    "# Capture print outputs from the widget\n",
    "display(w.print_out)"
   ]
  },
  {
   "cell_type": "markdown",
   "metadata": {},
   "source": [
    "The following cell changes the visibility or position of the cursor info bar. For the new setting to take effect, you need to re-run the cell that calls `w` above."
   ]
  },
  {
   "cell_type": "code",
   "execution_count": null,
   "metadata": {},
   "outputs": [],
   "source": [
    "w.cursor = 'top'  # 'top', 'bottom', None\n",
    "print(w.cursor)"
   ]
  },
  {
   "cell_type": "markdown",
   "metadata": {},
   "source": [
    "The rest of the calls demonstrate how the widget API works. Comment/uncomment as needed. Feel free to experiment."
   ]
  },
  {
   "cell_type": "code",
   "execution_count": null,
   "metadata": {},
   "outputs": [],
   "source": [
    "# Programmatically center to (X, Y) on viewer\n",
    "#w.center_on((1, 1))\n",
    "\n",
    "# Programmatically offset w.r.t. current center\n",
    "#w.offset_to(4096, 2048)\n",
    "\n",
    "# Programmatically center to SkyCoord on viewer\n",
    "#w.center_on(SkyCoord('00h14m28.28s', '-30d23m42.66s', frame='icrs'))\n",
    "\n",
    "# Programmatically offset (in degrees) w.r.t. SkyCoord center\n",
    "#w.offset_to(0.001, 0.001, skycoord_offset=True)\n",
    "\n",
    "# Show zoom level\n",
    "#print(w.zoom_level)\n",
    "\n",
    "# Programmatically zoom image on viewer\n",
    "#w.zoom(2)\n",
    "\n",
    "# Capture what viewer is showing and save RGB image\n",
    "# Need https://github.com/ejeschke/ginga/pull/665 to work\n",
    "#w.save('test.png')"
   ]
  },
  {
   "cell_type": "code",
   "execution_count": null,
   "metadata": {},
   "outputs": [],
   "source": [
    "# Get all available image stretch options\n",
    "print(w.stretch_options)\n",
    "\n",
    "# Get image stretch algorithm in use\n",
    "print(w.stretch)\n",
    "\n",
    "# Change the stretch\n",
    "w.stretch = 'linear'\n",
    "print(w.stretch)"
   ]
  },
  {
   "cell_type": "code",
   "execution_count": null,
   "metadata": {},
   "outputs": [],
   "source": [
    "# Get all available image cuts options\n",
    "print(w.autocut_options)\n",
    "\n",
    "# Get image cuts algorithm in use\n",
    "print(w.cuts)\n",
    "\n",
    "# Change the cuts by providing explicit low/high values\n",
    "w.cuts = (0, 100)\n",
    "print(w.cuts)\n",
    "\n",
    "# Change the cuts with an autocut algorithm\n",
    "w.cuts = 'zscale'\n",
    "print(w.cuts)"
   ]
  },
  {
   "cell_type": "code",
   "execution_count": null,
   "metadata": {},
   "outputs": [],
   "source": [
    "# This enables click to center.\n",
    "#w.click_center = True\n",
    "\n",
    "# Turn it back off so marking (next cell) can be done.\n",
    "w.click_center = False"
   ]
  },
  {
   "cell_type": "code",
   "execution_count": null,
   "metadata": {},
   "outputs": [],
   "source": [
    "# This enables/disabled marking mode.\n",
    "# Set to True, click on viewer to mark.\n",
    "# When done, set back to False.\n",
    "w.is_marking = True\n",
    "#w.is_marking = False\n",
    "print(w.is_marking)"
   ]
  },
  {
   "cell_type": "code",
   "execution_count": null,
   "metadata": {},
   "outputs": [],
   "source": [
    "# Get table of markers\n",
    "markers_table = w.get_markers()\n",
    "print(markers_table)\n",
    "\n",
    "# For sanity check with written values while marking\n",
    "print()\n",
    "for c in markers_table['coord'][:2]:\n",
    "    print(c.to_string('hmsdms'))"
   ]
  },
  {
   "cell_type": "code",
   "execution_count": null,
   "metadata": {},
   "outputs": [],
   "source": [
    "# Erase markers\n",
    "w.reset_markers()"
   ]
  },
  {
   "cell_type": "code",
   "execution_count": null,
   "metadata": {},
   "outputs": [],
   "source": [
    "# Programmatically re-mark from table using X, Y.\n",
    "# To be fancy, first 2 points marked differently.\n",
    "w.marker = {'type': 'circle', 'color': 'red', 'radius': 50}\n",
    "w.add_markers(markers_table[:2])\n",
    "w.marker = {'type': 'circle', 'color': 'cyan', 'radius': 20}\n",
    "w.add_markers(markers_table[2:])\n",
    "\n",
    "# TODO: Make this work\n",
    "# Programmatically re-mark from table using SkyCoord\n",
    "#w.add_markers(markers_table, use_skycoord=True)"
   ]
  },
  {
   "cell_type": "code",
   "execution_count": null,
   "metadata": {},
   "outputs": [],
   "source": [
    "# Stop marking AND clear markers\n",
    "w.stop_marking(clear_markers=True)\n",
    "print(w.is_marking)"
   ]
  },
  {
   "cell_type": "code",
   "execution_count": null,
   "metadata": {},
   "outputs": [],
   "source": [
    "import numpy as np\n",
    "from astropy.table import Table\n",
    "\n",
    "# Generate random \"stars\" to mark\n",
    "max_stars = 1000\n",
    "dpix = 20\n",
    "img = w._viewer.get_image()\n",
    "bad_locs = np.random.randint(dpix, high=img.shape[1] - dpix, size=[max_stars, 2])\n",
    "\n",
    "# Only want those not near the edges\n",
    "mask = ((dpix < bad_locs[:, 0]) & (bad_locs[:, 0] < img.shape[0] - dpix) &\n",
    "        (dpix < bad_locs[:, 1]) & (bad_locs[:, 1] < img.shape[1] - dpix))\n",
    "\n",
    "# Put them in table\n",
    "locs = bad_locs[mask]\n",
    "t = Table([locs[:, 1], locs[:, 0]], names=('x', 'y'))\n",
    "print(t)"
   ]
  },
  {
   "cell_type": "code",
   "execution_count": null,
   "metadata": {},
   "outputs": [],
   "source": [
    "# Mark those stars\n",
    "w.add_markers(t)"
   ]
  },
  {
   "cell_type": "code",
   "execution_count": null,
   "metadata": {},
   "outputs": [],
   "source": [
    "# Define a function to control marker display\n",
    "def show_circles(n):\n",
    "    \"\"\"\n",
    "    Show and hide circles instead of reconstructing them.\n",
    "    \"\"\"\n",
    "    w.reset_markers()\n",
    "    t2show = t[:n]\n",
    "    w.add_markers(t2show)"
   ]
  },
  {
   "cell_type": "code",
   "execution_count": null,
   "metadata": {},
   "outputs": [],
   "source": [
    "# import ipywidgets as ipyw\n",
    "from IPython.display import display\n",
    "from ipywidgets import interact\n",
    "\n",
    "# Initialize and display the slider right below the viewer.\n",
    "interact(\n",
    "    show_circles,\n",
    "    n=ipyw.IntSlider(min=0,max=len(t),step=1,value=0));"
   ]
  },
  {
   "cell_type": "code",
   "execution_count": null,
   "metadata": {},
   "outputs": [],
   "source": []
  }
 ],
 "metadata": {
  "kernelspec": {
   "display_name": "Python 3",
   "language": "python",
   "name": "python3"
  },
  "language_info": {
   "codemirror_mode": {
    "name": "ipython",
    "version": 3
   },
   "file_extension": ".py",
   "mimetype": "text/x-python",
   "name": "python",
   "nbconvert_exporter": "python",
   "pygments_lexer": "ipython3",
   "version": "3.6.4"
  }
 },
 "nbformat": 4,
 "nbformat_minor": 2
}
